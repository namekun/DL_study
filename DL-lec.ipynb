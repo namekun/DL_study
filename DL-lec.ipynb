{
 "cells": [
  {
   "cell_type": "markdown",
   "metadata": {},
   "source": [
    "## ADALINE\n",
    "* https://en.wikipedia.org/wiki/ADALINE"
   ]
  },
  {
   "cell_type": "markdown",
   "metadata": {},
   "source": [
    "### ADALINE vs. Perceptron\n",
    "* https://sebastianraschka.com/faq/docs/diff-perceptron-adaline-neuralnet.html    "
   ]
  },
  {
   "cell_type": "markdown",
   "metadata": {},
   "source": [
    "### 퍼셉트론 학습\n",
    "* http://untitledtblog.tistory.com/27"
   ]
  },
  {
   "cell_type": "code",
   "execution_count": 1,
   "metadata": {},
   "outputs": [],
   "source": [
    "import numpy as np\n",
    "\n",
    "class Perceptron:\n",
    "    def __init__(self, node=2):\n",
    "        self.W = np.random.rand(node + 1)\n",
    "        self.node = node\n",
    "        \n",
    "    def unit_f(self, net):\n",
    "        return 1 if net >= 0 else 0\n",
    "        \n",
    "    def show(self):\n",
    "        print(\"W: \" + str(self.W))\n",
    "        \n",
    "    def train(self, X, T, lr=0.05, verbose=False, maxIter=100):\n",
    "        ones_2d = np.ones((X.shape[0], 1))\n",
    "        X = np.hstack((ones_2d, X))\n",
    "        self.show()\n",
    "        keep_training = True\n",
    "        i = 0\n",
    "        \n",
    "        while keep_training and i < maxIter:\n",
    "            keep_training = False\n",
    "            print(\"Epoch: \" + str(i+1))\n",
    "            \n",
    "            for (x, t) in zip(X, T):\n",
    "                net = np.sum(self.W * x)\n",
    "                y = self.unit_f(net)\n",
    "                if y != t:\n",
    "                    keep_training = True\n",
    "                    self.W = self.W + lr*x*(t-y)\n",
    "                    print(\"\\t<<Weights Updated>>\")\n",
    "                    print(\"\\t\\tW: \" + str(self.W))\n",
    "            \n",
    "            i += 1\n",
    "            \n",
    "    def predict(self, x):\n",
    "        x = np.hstack((1, x))\n",
    "        return self.unit_f(np.sum(self.W * x))"
   ]
  },
  {
   "cell_type": "code",
   "execution_count": 2,
   "metadata": {},
   "outputs": [],
   "source": [
    "p_AND = Perceptron()\n",
    "X = np.array([[0, 0], [0, 1], [1, 0], [1, 1]])\n",
    "T_AND = np.array([0, 0, 0, 1])"
   ]
  },
  {
   "cell_type": "code",
   "execution_count": 3,
   "metadata": {},
   "outputs": [
    {
     "name": "stdout",
     "output_type": "stream",
     "text": [
      "W: [0.00479689 0.12313391 0.41330772]\n"
     ]
    }
   ],
   "source": [
    "p_AND.show()"
   ]
  },
  {
   "cell_type": "code",
   "execution_count": 4,
   "metadata": {},
   "outputs": [
    {
     "name": "stdout",
     "output_type": "stream",
     "text": [
      "W: [0.00479689 0.12313391 0.41330772]\n",
      "Epoch: 1\n",
      "\t<<Weights Updated>>\n",
      "\t\tW: [-0.04520311  0.12313391  0.41330772]\n",
      "\t<<Weights Updated>>\n",
      "\t\tW: [-0.09520311  0.12313391  0.36330772]\n",
      "\t<<Weights Updated>>\n",
      "\t\tW: [-0.14520311  0.07313391  0.36330772]\n",
      "Epoch: 2\n",
      "\t<<Weights Updated>>\n",
      "\t\tW: [-0.19520311  0.07313391  0.31330772]\n",
      "Epoch: 3\n",
      "\t<<Weights Updated>>\n",
      "\t\tW: [-0.24520311  0.07313391  0.26330772]\n",
      "Epoch: 4\n",
      "\t<<Weights Updated>>\n",
      "\t\tW: [-0.29520311  0.07313391  0.21330772]\n",
      "\t<<Weights Updated>>\n",
      "\t\tW: [-0.24520311  0.12313391  0.26330772]\n",
      "Epoch: 5\n",
      "\t<<Weights Updated>>\n",
      "\t\tW: [-0.29520311  0.12313391  0.21330772]\n",
      "Epoch: 6\n"
     ]
    }
   ],
   "source": [
    "p_AND.train(X, T_AND)"
   ]
  },
  {
   "cell_type": "code",
   "execution_count": 5,
   "metadata": {},
   "outputs": [
    {
     "data": {
      "text/plain": [
       "0"
      ]
     },
     "execution_count": 5,
     "metadata": {},
     "output_type": "execute_result"
    }
   ],
   "source": [
    "p_AND.predict([0.21, 0.1])"
   ]
  },
  {
   "cell_type": "code",
   "execution_count": 6,
   "metadata": {},
   "outputs": [
    {
     "name": "stdout",
     "output_type": "stream",
     "text": [
      "W: [0.32834999 0.88158019 0.58207272]\n",
      "Epoch: 1\n",
      "\t<<Weights Updated>>\n",
      "\t\tW: [0.22834999 0.88158019 0.58207272]\n",
      "Epoch: 2\n",
      "\t<<Weights Updated>>\n",
      "\t\tW: [0.12834999 0.88158019 0.58207272]\n",
      "Epoch: 3\n",
      "\t<<Weights Updated>>\n",
      "\t\tW: [0.02834999 0.88158019 0.58207272]\n",
      "Epoch: 4\n",
      "\t<<Weights Updated>>\n",
      "\t\tW: [-0.07165001  0.88158019  0.58207272]\n",
      "Epoch: 5\n"
     ]
    }
   ],
   "source": [
    "p_OR = Perceptron()\n",
    "T_OR = np.array([0, 1, 1, 1])\n",
    "p_OR.train(X, T_OR, lr=0.1)"
   ]
  },
  {
   "cell_type": "code",
   "execution_count": 7,
   "metadata": {},
   "outputs": [
    {
     "name": "stdout",
     "output_type": "stream",
     "text": [
      "1\n",
      "1\n"
     ]
    }
   ],
   "source": [
    "print(p_OR.predict([0, 1]))\n",
    "print(p_OR.predict([0.1, 0.9]))"
   ]
  },
  {
   "cell_type": "code",
   "execution_count": 8,
   "metadata": {},
   "outputs": [
    {
     "name": "stdout",
     "output_type": "stream",
     "text": [
      "0\n"
     ]
    }
   ],
   "source": [
    "print(p_OR.predict([0.0, 0.0]))"
   ]
  },
  {
   "cell_type": "raw",
   "metadata": {},
   "source": []
  },
  {
   "cell_type": "raw",
   "metadata": {},
   "source": [
    "* 변수:\n",
    "  - 훈련 데이터: X, T\n",
    "  - 가중치: W\n",
    "  - 바이어스: W[0]\n",
    "  - 학습률: lr = 0.05\n",
    "  - 최대 반복 횟수: maxIter = 100"
   ]
  },
  {
   "cell_type": "code",
   "execution_count": 9,
   "metadata": {},
   "outputs": [],
   "source": [
    "X = np.array([[0, 0], [0, 1], [1, 0], [1, 1]])\n",
    "T_AND = np.array([0, 0, 0, 1])\n",
    "W = np.random.rand(X.shape[1]+1)\n",
    "lr = 0.05\n",
    "maxIter = 100"
   ]
  },
  {
   "cell_type": "code",
   "execution_count": 10,
   "metadata": {},
   "outputs": [
    {
     "name": "stdout",
     "output_type": "stream",
     "text": [
      "[0.62690836 0.56656094 0.96648597]\n"
     ]
    }
   ],
   "source": [
    "print(W)"
   ]
  },
  {
   "cell_type": "code",
   "execution_count": 12,
   "metadata": {},
   "outputs": [],
   "source": [
    "ones_2d = np.ones((X.shape[0], 1))"
   ]
  },
  {
   "cell_type": "code",
   "execution_count": 13,
   "metadata": {},
   "outputs": [],
   "source": [
    "X1 = np.hstack((ones_2d, X))"
   ]
  },
  {
   "cell_type": "raw",
   "metadata": {},
   "source": [
    "* 반복문 내에서 수행할 코드를 생각해 봅시다"
   ]
  },
  {
   "cell_type": "code",
   "execution_count": 14,
   "metadata": {},
   "outputs": [],
   "source": [
    "# 1. 입력 x와 W를 내적\n",
    "net = np.sum(X1[0] * W)"
   ]
  },
  {
   "cell_type": "code",
   "execution_count": 15,
   "metadata": {},
   "outputs": [],
   "source": [
    "y = 1 if net >=0 else 0"
   ]
  },
  {
   "cell_type": "code",
   "execution_count": 16,
   "metadata": {},
   "outputs": [
    {
     "name": "stdout",
     "output_type": "stream",
     "text": [
      "학습중...\n"
     ]
    }
   ],
   "source": [
    "if y != T_AND[0]:\n",
    "    #keep_training = True        \n",
    "    W = W + lr*X1[0]*(T_AND[0] - y)\n",
    "    print(\"학습중...\")"
   ]
  },
  {
   "cell_type": "raw",
   "metadata": {},
   "source": [
    "* 반복문 완성\n",
    "  : epoch 반복 (while)\n",
    "    - 입력 데이터 세트에 대해 가중치 업데이트가 있을 때마다\n",
    "    - 또는 최대 반복 횟수를 넘지 않을 때까지\n",
    "  : 데이터 세트의 개수 반복 (for)"
   ]
  },
  {
   "cell_type": "code",
   "execution_count": 17,
   "metadata": {},
   "outputs": [
    {
     "name": "stdout",
     "output_type": "stream",
     "text": [
      "Epoch: 1\n",
      "가중치 업데이트 중...\n",
      "가중치 업데이트 중...\n",
      "가중치 업데이트 중...\n",
      "Epoch: 2\n",
      "가중치 업데이트 중...\n",
      "가중치 업데이트 중...\n",
      "가중치 업데이트 중...\n",
      "Epoch: 3\n",
      "가중치 업데이트 중...\n",
      "가중치 업데이트 중...\n",
      "가중치 업데이트 중...\n",
      "Epoch: 4\n",
      "가중치 업데이트 중...\n",
      "가중치 업데이트 중...\n",
      "가중치 업데이트 중...\n",
      "Epoch: 5\n",
      "가중치 업데이트 중...\n",
      "가중치 업데이트 중...\n",
      "Epoch: 6\n",
      "가중치 업데이트 중...\n",
      "가중치 업데이트 중...\n",
      "Epoch: 7\n",
      "가중치 업데이트 중...\n",
      "Epoch: 8\n",
      "가중치 업데이트 중...\n",
      "Epoch: 9\n",
      "가중치 업데이트 중...\n",
      "Epoch: 10\n",
      "가중치 업데이트 중...\n",
      "Epoch: 11\n",
      "가중치 업데이트 중...\n",
      "Epoch: 12\n"
     ]
    }
   ],
   "source": [
    "i = 0\n",
    "keep_training = True\n",
    "while keep_training and i < maxIter:\n",
    "    keep_training = False\n",
    "    print(\"Epoch: \" + str(i+1))\n",
    "    \n",
    "    for (x, t) in zip(X1, T_AND):\n",
    "        net = np.sum(W*x)\n",
    "        y = 1 if net >=0 else 0\n",
    "        \n",
    "        if y != t:\n",
    "            keep_training = True\n",
    "            print(\"가중치 업데이트 중...\")\n",
    "            W = W + lr*x*(t - y)\n",
    "    i += 1"
   ]
  },
  {
   "cell_type": "code",
   "execution_count": 18,
   "metadata": {},
   "outputs": [
    {
     "name": "stdout",
     "output_type": "stream",
     "text": [
      "[-0.47309164  0.26656094  0.41648597]\n"
     ]
    }
   ],
   "source": [
    "print(W)"
   ]
  },
  {
   "cell_type": "code",
   "execution_count": 19,
   "metadata": {},
   "outputs": [],
   "source": [
    "def predict(W, x):\n",
    "    x = np.hstack((1, x))\n",
    "    net = W.dot(x)\n",
    "    return 1 if net >= 0 else 0"
   ]
  },
  {
   "cell_type": "code",
   "execution_count": 20,
   "metadata": {},
   "outputs": [
    {
     "data": {
      "text/plain": [
       "1"
      ]
     },
     "execution_count": 20,
     "metadata": {},
     "output_type": "execute_result"
    }
   ],
   "source": [
    "predict(W, [0.91, 1.03])"
   ]
  },
  {
   "cell_type": "code",
   "execution_count": null,
   "metadata": {},
   "outputs": [],
   "source": []
  }
 ],
 "metadata": {
  "kernelspec": {
   "display_name": "Python 3",
   "language": "python",
   "name": "python3"
  },
  "language_info": {
   "codemirror_mode": {
    "name": "ipython",
    "version": 3
   },
   "file_extension": ".py",
   "mimetype": "text/x-python",
   "name": "python",
   "nbconvert_exporter": "python",
   "pygments_lexer": "ipython3",
   "version": "3.6.5"
  }
 },
 "nbformat": 4,
 "nbformat_minor": 2
}
